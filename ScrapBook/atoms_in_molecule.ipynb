{
  "nbformat": 4,
  "nbformat_minor": 0,
  "metadata": {
    "colab": {
      "name": "atoms_in_molecule.ipynb",
      "version": "0.3.2",
      "provenance": [],
      "collapsed_sections": [],
      "include_colab_link": true
    },
    "kernelspec": {
      "name": "python3",
      "display_name": "Python 3"
    }
  },
  "cells": [
    {
      "cell_type": "markdown",
      "metadata": {
        "id": "view-in-github",
        "colab_type": "text"
      },
      "source": [
        "<a href=\"https://colab.research.google.com/github/dipinpjoseph/PythonicWad/blob/master/ScrapBook/atoms_in_molecule.ipynb\" target=\"_parent\"><img src=\"https://colab.research.google.com/assets/colab-badge.svg\" alt=\"Open In Colab\"/></a>"
      ]
    },
    {
      "metadata": {
        "id": "lrbOK00-RLIE",
        "colab_type": "code",
        "outputId": "0b0c0265-fcff-414b-86b4-f6358488d5d7",
        "colab": {
          "base_uri": "https://localhost:8080/",
          "height": 119
        }
      },
      "cell_type": "code",
      "source": [
        "'''Python snippet to count No.of atoms of each element present in a molecule'''\n",
        "def count_atoms(mol):\n",
        "  atom_map = []\n",
        "  atom_short = \"\"\n",
        "  for i in range(0,len(mol)):\n",
        "    if mol[i].isupper():\n",
        "      if atom_short != \"\":\n",
        "        atom_map.append((atom_short,1))\n",
        "        atom_short = mol[i]\n",
        "        if(i == len(mol)-1):\n",
        "          atom_map.append((atom_short,1))\n",
        "      else:\n",
        "        atom_short += mol[i]\n",
        "        if(i == len(mol)-1):\n",
        "          atom_map.append((atom_short,1))\n",
        "    elif mol[i].islower():\n",
        "      atom_short += mol[i]\n",
        "      if(i == len(mol)-1):\n",
        "        atom_map.append((atom_short,1))\n",
        "    elif mol[i].isdigit:\n",
        "      atom_map.append((atom_short, mol[i]))\n",
        "      atom_short = \"\"\n",
        "  return(atom_map)\n",
        "\n",
        "print(count_atoms(\"CaCO3\"))\n",
        "print(count_atoms(\"H2O\"))\n",
        "print(count_atoms(\"He\"))\n",
        "print(count_atoms(\"NaSO4\"))\n",
        "print(count_atoms(\"NaCl\"))\n",
        "print(count_atoms(\"CaO\"))"
      ],
      "execution_count": 1,
      "outputs": [
        {
          "output_type": "stream",
          "text": [
            "[('Ca', 1), ('C', 1), ('O', '3')]\n",
            "[('H', '2'), ('O', 1)]\n",
            "[('He', 1)]\n",
            "[('Na', 1), ('S', 1), ('O', '4')]\n",
            "[('Na', 1), ('Cl', 1)]\n",
            "[('Ca', 1), ('O', 1)]\n"
          ],
          "name": "stdout"
        }
      ]
    }
  ]
}